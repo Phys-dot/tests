{
 "cells": [
  {
   "cell_type": "markdown",
   "id": "926f67cb",
   "metadata": {},
   "source": [
    "##This is a test notebook"
   ]
  },
  {
   "cell_type": "code",
   "execution_count": 2,
   "id": "20707cf0",
   "metadata": {},
   "outputs": [],
   "source": [
    "%matplotlib inline\n",
    "from scipy import random\n",
    "import numpy as np\n",
    "import matplotlib.pyplot as plt"
   ]
  },
  {
   "cell_type": "code",
   "execution_count": 20,
   "id": "6b2da449",
   "metadata": {},
   "outputs": [
    {
     "name": "stdout",
     "output_type": "stream",
     "text": [
      "The integral from 0 to pi of sin(x) is 2.0632315891829895\n"
     ]
    }
   ],
   "source": [
    "a = 0\n",
    "b = np.pi #limits of integration\n",
    "N = 100\n",
    "xrand = np.zeros(N)\n",
    "\n",
    "for i in range(N):\n",
    "    xrand[i] = random.uniform(a, b)\n",
    "    \n",
    "def func(x):\n",
    "    return np.sin(x)\n",
    "    \n",
    "integral = 0.0\n",
    "\n",
    "for i in range(N):\n",
    "    integral+= func(xrand[i])\n",
    "    \n",
    "answer = (b-a)/float(N)*integral\n",
    "print (\"The integral from 0 to pi of sin(x) is\",  answer)"
   ]
  },
  {
   "cell_type": "code",
   "execution_count": 21,
   "id": "5a7184a1",
   "metadata": {},
   "outputs": [
    {
     "name": "stdout",
     "output_type": "stream",
     "text": [
      "The integral from 0 to pi of sin(x) is 2.055372319415471\n"
     ]
    }
   ],
   "source": [
    "a = 0\n",
    "b = np.pi #limits of integration\n",
    "N = 100\n",
    "\n",
    "xrand=random.uniform(a,b,N)\n",
    "    \n",
    "integral = 0.0\n",
    "\n",
    "for i in range(N):\n",
    "    integral+= func(xrand[i])\n",
    "    \n",
    "answer = (b-a)/float(N)*integral\n",
    "print (\"The integral from 0 to pi of sin(x) is\",  answer)"
   ]
  },
  {
   "cell_type": "code",
   "execution_count": 72,
   "id": "3d33d082",
   "metadata": {},
   "outputs": [
    {
     "name": "stdout",
     "output_type": "stream",
     "text": [
      "The integral from 0 to pi of sin(x) is 2.00016766124958 +/- 0.1015361837600216\n"
     ]
    }
   ],
   "source": [
    "a = 0\n",
    "b = np.pi #limits of integration\n",
    "N = 100\n",
    "Ntries=1000\n",
    "\n",
    "integrallist= []\n",
    "for i in range(Ntries):\n",
    "    xrand=random.uniform(a,b,N)\n",
    "    \n",
    "    integral = 0.0\n",
    "    for j in range(N):\n",
    "        integral+= func(xrand[j])\n",
    "    \n",
    "    integral = (b-a)/float(N)*integral\n",
    "    integrallist.append(integral)\n",
    "\n",
    "mean=np.mean(integrallist)\n",
    "std=np.std(integrallist)\n",
    "print (\"The integral from 0 to pi of sin(x) is\",  mean,'+/-',std)"
   ]
  },
  {
   "cell_type": "markdown",
   "id": "a720417f",
   "metadata": {},
   "source": [
    "Here we generate an histogram"
   ]
  },
  {
   "cell_type": "code",
   "execution_count": 133,
   "id": "3f986e38",
   "metadata": {},
   "outputs": [
    {
     "data": {
      "image/png": "[encoded data removed]",
      "text/plain": [
       "<Figure size 432x288 with 1 Axes>"
      ]
     },
     "metadata": {
      "needs_background": "light"
     },
     "output_type": "display_data"
    }
   ],
   "source": [
    "plt.title('Histogram of areas calculated')\n",
    "plt.hist(integrallist,bins = 20,ec = 'black')\n",
    "plt.xlabel('Areas')\n",
    "posx=mean-2*std\n",
    "posy=N\n",
    "textplot='{0} {1} {2} {3} {4}'.format('mean=',str(format(mean,'.2f')),',',r'$\\sigma = $',str(format(std,'.2f')))\n",
    "plt.text(posx,posy,textplot)\n",
    "plt.show()"
   ]
  }
 ],
 "metadata": {
  "kernelspec": {
   "display_name": "Python 3",
   "language": "python",
   "name": "python3"
  },
  "language_info": {
   "codemirror_mode": {
    "name": "ipython",
    "version": 3
   },
   "file_extension": ".py",
   "mimetype": "text/x-python",
   "name": "python",
   "nbconvert_exporter": "python",
   "pygments_lexer": "ipython3",
   "version": "3.8.8"
  }
 },
 "nbformat": 4,
 "nbformat_minor": 5
}
